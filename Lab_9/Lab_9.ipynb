{
  "nbformat": 4,
  "nbformat_minor": 0,
  "metadata": {
    "colab": {
      "provenance": [],
      "include_colab_link": true
    },
    "kernelspec": {
      "name": "python3",
      "display_name": "Python 3"
    },
    "language_info": {
      "name": "python"
    }
  },
  "cells": [
    {
      "cell_type": "markdown",
      "metadata": {
        "id": "view-in-github",
        "colab_type": "text"
      },
      "source": [
        "<a href=\"https://colab.research.google.com/github/UMANG13-coder/CE154_ML/blob/main/Lab_9/Lab_9.ipynb\" target=\"_parent\"><img src=\"https://colab.research.google.com/assets/colab-badge.svg\" alt=\"Open In Colab\"/></a>"
      ]
    },
    {
      "cell_type": "code",
      "execution_count": null,
      "metadata": {
        "colab": {
          "base_uri": "https://localhost:8080/"
        },
        "id": "BbF5z0TD-daw",
        "outputId": "039f82a1-828a-49ba-de63-fdd1a94cf6e2"
      },
      "outputs": [
        {
          "output_type": "execute_result",
          "data": {
            "text/plain": [
              "array([[ 2.17058568,  0.85600391],\n",
              "       [ 0.79717677,  4.38116783],\n",
              "       [ 2.24471791,  0.86666164],\n",
              "       [ 0.65349051,  4.26123927],\n",
              "       [ 0.76655949,  4.01978374],\n",
              "       [ 0.90668765,  4.33505712],\n",
              "       [-1.75639774,  2.83031825],\n",
              "       [-1.33701985,  2.93539251],\n",
              "       [ 2.18972647,  0.97915603],\n",
              "       [ 0.84940566,  4.23123909],\n",
              "       [ 1.12208819,  4.32958391],\n",
              "       [ 1.22232821,  4.5442633 ],\n",
              "       [ 2.14840001,  0.59041492],\n",
              "       [ 1.28282592,  4.59765908],\n",
              "       [-1.67585498,  2.75259455],\n",
              "       [ 2.42877931,  1.07887259],\n",
              "       [-1.54659452,  2.7851866 ],\n",
              "       [ 0.81364082,  3.95853081],\n",
              "       [-1.54055233,  3.26055081],\n",
              "       [-1.74778068,  2.92831528],\n",
              "       [-1.65562769,  2.47320163],\n",
              "       [-1.53476058,  2.68426356],\n",
              "       [-1.39887771,  2.59449105],\n",
              "       [ 0.79871293,  3.90762803],\n",
              "       [ 1.841117  ,  1.10855401],\n",
              "       [ 2.08064994,  0.97806153],\n",
              "       [ 1.90128431,  1.0055135 ],\n",
              "       [ 1.82223755,  1.07782896],\n",
              "       [-1.60074038,  2.87000643],\n",
              "       [-1.3725459 ,  3.08258309],\n",
              "       [ 1.00507879,  4.59464203],\n",
              "       [ 2.35291796,  1.2768415 ],\n",
              "       [ 1.97254373,  0.7481727 ],\n",
              "       [ 1.27508589,  4.26275567],\n",
              "       [-1.61801051,  2.92137809],\n",
              "       [-1.05027506,  3.10677816],\n",
              "       [ 0.95562631,  4.38590703],\n",
              "       [ 1.92040099,  0.90402977],\n",
              "       [ 2.1265408 ,  1.03897829],\n",
              "       [-1.67481661,  3.22648518],\n",
              "       [-1.30157683,  2.70189596],\n",
              "       [ 2.13573585,  0.76070164],\n",
              "       [ 2.11491516,  1.16294084],\n",
              "       [ 0.63501604,  4.69394241],\n",
              "       [ 1.00725956,  4.37941983],\n",
              "       [ 0.87433964,  4.21617247],\n",
              "       [ 1.88110809,  0.78189373],\n",
              "       [ 1.91635395,  0.86773675],\n",
              "       [-1.70946846,  3.14128552],\n",
              "       [-1.42224868,  2.883573  ],\n",
              "       [-1.09425682,  3.18518785],\n",
              "       [ 1.92809831,  1.03295032],\n",
              "       [ 0.79481041,  4.31417641],\n",
              "       [ 2.09692252,  1.09299147],\n",
              "       [-1.6265105 ,  3.30378867],\n",
              "       [-1.35553789,  2.78767714],\n",
              "       [ 2.29102344,  0.86167869],\n",
              "       [ 2.05736753,  1.25483776],\n",
              "       [ 0.98542178,  4.26635056],\n",
              "       [ 2.43189766,  0.62811185],\n",
              "       [ 1.80117052,  1.091543  ],\n",
              "       [-1.7854754 ,  2.97129244],\n",
              "       [-1.68758595,  2.77997231],\n",
              "       [-1.49356931,  3.04488855],\n",
              "       [-1.82515553,  3.0057606 ],\n",
              "       [ 1.97463213,  1.14215267],\n",
              "       [ 1.12847762,  4.32812233],\n",
              "       [-1.72694708,  2.60892804],\n",
              "       [ 1.99295702,  0.90889673],\n",
              "       [ 1.16628776,  4.27351589],\n",
              "       [-1.34273225,  2.98162779],\n",
              "       [ 1.430221  ,  4.01291419],\n",
              "       [ 0.46567212,  4.43451105],\n",
              "       [ 2.43985593,  1.19376662],\n",
              "       [ 1.88302238,  1.27967665],\n",
              "       [ 1.20415022,  4.05682216],\n",
              "       [ 1.01175531,  4.22343114],\n",
              "       [ 0.84177799,  4.2318767 ],\n",
              "       [-1.5977028 ,  2.642892  ],\n",
              "       [ 2.13055263,  0.6777835 ],\n",
              "       [ 0.72571101,  4.4592854 ],\n",
              "       [ 0.98957352,  4.36428171],\n",
              "       [ 2.00166685,  1.05815494],\n",
              "       [ 0.65023041,  4.39634378],\n",
              "       [ 1.82064284,  1.2863879 ],\n",
              "       [ 1.06504273,  4.37052219],\n",
              "       [ 0.97063363,  4.3894537 ],\n",
              "       [ 0.87410905,  4.06766089],\n",
              "       [ 2.1780834 ,  1.08210499],\n",
              "       [ 0.89880472,  4.24332678],\n",
              "       [ 1.96823681,  1.26751641],\n",
              "       [ 2.13446886,  0.67905136],\n",
              "       [-1.30697209,  3.04893501],\n",
              "       [-1.73375258,  3.05420116],\n",
              "       [-1.7900855 ,  2.82556534],\n",
              "       [-1.28929805,  2.98127078],\n",
              "       [ 1.03888362,  4.13296818],\n",
              "       [ 1.14915732,  4.15535432],\n",
              "       [-1.40185772,  2.59747073],\n",
              "       [-1.77199112,  3.08675486]])"
            ]
          },
          "metadata": {},
          "execution_count": 194
        }
      ],
      "source": [
        "from sklearn.datasets import make_blobs\n",
        "X, y = make_blobs(n_samples=100, centers=3, n_features=2,\n",
        "cluster_std=0.2, random_state=0)\n",
        "X"
      ]
    },
    {
      "cell_type": "code",
      "source": [
        "import matplotlib.pyplot as plt\n",
        "%matplotlib inline"
      ],
      "metadata": {
        "id": "dTEvVOJM_KDf"
      },
      "execution_count": null,
      "outputs": []
    },
    {
      "cell_type": "code",
      "source": [
        "from sklearn.cluster import KMeans\n",
        "kmean = KMeans(n_clusters=3).fit(X)"
      ],
      "metadata": {
        "id": "gwNyp4v3_hsu"
      },
      "execution_count": null,
      "outputs": []
    },
    {
      "cell_type": "code",
      "source": [
        "kmean.cluster_centers_"
      ],
      "metadata": {
        "colab": {
          "base_uri": "https://localhost:8080/"
        },
        "id": "BW0eqWBI_iFV",
        "outputId": "43e34366-7707-433d-e0cd-0baae99e9961"
      },
      "execution_count": null,
      "outputs": [
        {
          "output_type": "execute_result",
          "data": {
            "text/plain": [
              "array([[ 0.95164831,  4.28882085],\n",
              "       [ 2.0720792 ,  0.98848385],\n",
              "       [-1.538563  ,  2.91165191]])"
            ]
          },
          "metadata": {},
          "execution_count": 197
        }
      ]
    },
    {
      "cell_type": "code",
      "source": [
        "kmean.labels_"
      ],
      "metadata": {
        "colab": {
          "base_uri": "https://localhost:8080/"
        },
        "id": "ZBPzdApTCKmW",
        "outputId": "2c6d3ffe-c6fa-4b4b-9631-93fa6dc5a2eb"
      },
      "execution_count": null,
      "outputs": [
        {
          "output_type": "execute_result",
          "data": {
            "text/plain": [
              "array([1, 0, 1, 0, 0, 0, 2, 2, 1, 0, 0, 0, 1, 0, 2, 1, 2, 0, 2, 2, 2, 2,\n",
              "       2, 0, 1, 1, 1, 1, 2, 2, 0, 1, 1, 0, 2, 2, 0, 1, 1, 2, 2, 1, 1, 0,\n",
              "       0, 0, 1, 1, 2, 2, 2, 1, 0, 1, 2, 2, 1, 1, 0, 1, 1, 2, 2, 2, 2, 1,\n",
              "       0, 2, 1, 0, 2, 0, 0, 1, 1, 0, 0, 0, 2, 1, 0, 0, 1, 0, 1, 0, 0, 0,\n",
              "       1, 0, 1, 1, 2, 2, 2, 2, 0, 0, 2, 2], dtype=int32)"
            ]
          },
          "metadata": {},
          "execution_count": 198
        }
      ]
    },
    {
      "cell_type": "code",
      "source": [
        "for i in y:\n",
        "  plt.scatter(X[y==i ,0],X[y==i ,1], label=i)\n",
        "plt.xlabel(\"X-coordinate\")\n",
        "plt.ylabel(\"Y-coordinate\")\n",
        "plt.show()"
      ],
      "metadata": {
        "colab": {
          "base_uri": "https://localhost:8080/",
          "height": 279
        },
        "id": "9-MsIf-wC0Xt",
        "outputId": "714d0dac-c414-48cd-ad7d-5ea784234d48"
      },
      "execution_count": null,
      "outputs": [
        {
          "output_type": "display_data",
          "data": {
            "text/plain": [
              "<Figure size 432x288 with 1 Axes>"
            ],
            "image/png": "[encoded data removed]"
          },
          "metadata": {
            "needs_background": "light"
          }
        }
      ]
    },
    {
      "cell_type": "code",
      "source": [
        "plt.scatter(kmean.cluster_centers_[:,0],kmean.cluster_centers_[:,1])\n",
        "plt.show()"
      ],
      "metadata": {
        "colab": {
          "base_uri": "https://localhost:8080/",
          "height": 265
        },
        "id": "EpiQdfhED1P8",
        "outputId": "223ccb2e-a485-4519-bf18-bce874315787"
      },
      "execution_count": null,
      "outputs": [
        {
          "output_type": "display_data",
          "data": {
            "text/plain": [
              "<Figure size 432x288 with 1 Axes>"
            ],
            "image/png": "[encoded data removed]"
          },
          "metadata": {
            "needs_background": "light"
          }
        }
      ]
    },
    {
      "cell_type": "code",
      "source": [
        "from sklearn.metrics import silhouette_score\n",
        "ans = silhouette_score(X,y)\n",
        "ans"
      ],
      "metadata": {
        "colab": {
          "base_uri": "https://localhost:8080/"
        },
        "id": "oR5bWppJGIfe",
        "outputId": "37f3c2f9-8c8b-4b3e-8d84-d98737950b21"
      },
      "execution_count": null,
      "outputs": [
        {
          "output_type": "execute_result",
          "data": {
            "text/plain": [
              "0.8816040239688525"
            ]
          },
          "metadata": {},
          "execution_count": 201
        }
      ]
    },
    {
      "cell_type": "code",
      "source": [
        "from yellowbrick.cluster import KElbowVisualizer\n",
        "\n",
        "new_kmean = KMeans()\n",
        "visualizer = KElbowVisualizer(new_kmean)\n",
        "\n",
        "visualizer.fit(X)\n",
        "visualizer.show()"
      ],
      "metadata": {
        "colab": {
          "base_uri": "https://localhost:8080/",
          "height": 311
        },
        "id": "z5bllmpoHG89",
        "outputId": "e74d68a5-2424-49ca-b1e6-6250bd176004"
      },
      "execution_count": null,
      "outputs": [
        {
          "output_type": "display_data",
          "data": {
            "text/plain": [
              "<Figure size 432x288 with 2 Axes>"
            ],
            "image/png": "[encoded data removed]"
          },
          "metadata": {}
        },
        {
          "output_type": "execute_result",
          "data": {
            "text/plain": [
              "<matplotlib.axes._subplots.AxesSubplot at 0x7f7e3d1709a0>"
            ]
          },
          "metadata": {},
          "execution_count": 202
        }
      ]
    },
    {
      "cell_type": "code",
      "source": [
        "import matplotlib.pyplot as plt\n",
        "import numpy as np\n",
        "from sklearn.cluster import KMeans\n",
        "#x = np.array([5,7,8,7,2,17,2,9,4,11,12,9,6])\n",
        "X1 = np.array([[2,2],[3,4],[6,7],[5,5],[3,3],[12,13]])\n",
        "#X1.shape()\n",
        "X2 = np.array([2,3,4])\n",
        "plt.scatter(X1[:,0], X1[:,1])\n",
        "centroid = np.array([[2,2],[3,4],[6,7]])\n",
        "kmeans = KMeans(n_clusters=3, init=centroid).fit(X1)\n",
        "kmeans.cluster_centers_\n",
        "kmeans.labels_\n",
        "#print(\"Number of iterations \" , kmeans.n_iter_)\n",
        "kmeans.predict([[8,8]])"
      ],
      "metadata": {
        "colab": {
          "base_uri": "https://localhost:8080/",
          "height": 337
        },
        "id": "Y1ff05QgK68E",
        "outputId": "7f1ba684-147d-46fb-e0fd-7fe33eab8037"
      },
      "execution_count": null,
      "outputs": [
        {
          "output_type": "stream",
          "name": "stderr",
          "text": [
            "/usr/local/lib/python3.8/dist-packages/sklearn/cluster/_kmeans.py:1146: RuntimeWarning: Explicit initial center position passed: performing only one init in KMeans instead of n_init=10.\n",
            "  self._check_params(X)\n"
          ]
        },
        {
          "output_type": "execute_result",
          "data": {
            "text/plain": [
              "array([1], dtype=int32)"
            ]
          },
          "metadata": {},
          "execution_count": 203
        },
        {
          "output_type": "display_data",
          "data": {
            "text/plain": [
              "<Figure size 432x288 with 1 Axes>"
            ],
            "image/png": "[encoded data removed]"
          },
          "metadata": {
            "needs_background": "light"
          }
        }
      ]
    },
    {
      "cell_type": "markdown",
      "source": [
        "### *Hand Written Digit Recognition*"
      ],
      "metadata": {
        "id": "OfwsOjwDN10b"
      }
    },
    {
      "cell_type": "code",
      "source": [
        "import numpy as np # linear algebra\n",
        "import pandas as pd # data processing, CSV file I/O (e.g. pd.read_csv)\n",
        "from sklearn.cluster import KMeans\n",
        "from sklearn.datasets import load_digits\n",
        "#digits dataset from scikit learn consists of 8x8 pixel images of digits\n",
        "#Data plotting and visualization libraries\n",
        "import matplotlib.pyplot as plt\n",
        "import seaborn as sns\n",
        "from scipy.stats import mode\n",
        "from sklearn.metrics import accuracy_score, confusion_matrix"
      ],
      "metadata": {
        "id": "zzn5IyfDLJ87"
      },
      "execution_count": null,
      "outputs": []
    },
    {
      "cell_type": "code",
      "source": [
        "digits = load_digits()"
      ],
      "metadata": {
        "id": "BLdkICgSOneD"
      },
      "execution_count": null,
      "outputs": []
    },
    {
      "cell_type": "code",
      "source": [
        "digits.keys()"
      ],
      "metadata": {
        "colab": {
          "base_uri": "https://localhost:8080/"
        },
        "id": "NhgSd8l_OxAy",
        "outputId": "11390b88-bb0a-4b30-eaf6-1751c0661cfe"
      },
      "execution_count": null,
      "outputs": [
        {
          "output_type": "execute_result",
          "data": {
            "text/plain": [
              "dict_keys(['data', 'target', 'frame', 'feature_names', 'target_names', 'images', 'DESCR'])"
            ]
          },
          "metadata": {},
          "execution_count": 206
        }
      ]
    },
    {
      "cell_type": "code",
      "source": [
        "from sklearn.cluster import KMeans\n",
        "\n",
        "model = KMeans()\n",
        "model.fit(digits.data)\n",
        "digits.data.shape"
      ],
      "metadata": {
        "colab": {
          "base_uri": "https://localhost:8080/"
        },
        "id": "ewHIrNvvPBJr",
        "outputId": "a55a24a8-796b-442d-e0a0-3e40c5ebc45a"
      },
      "execution_count": null,
      "outputs": [
        {
          "output_type": "execute_result",
          "data": {
            "text/plain": [
              "(1797, 64)"
            ]
          },
          "metadata": {},
          "execution_count": 207
        }
      ]
    },
    {
      "cell_type": "code",
      "source": [
        "fig, ax = plt.subplots(2, 5, figsize = (8,3)) \n",
        "centers = model.cluster_centers_.reshape(8,8,8)\n",
        "for axi, center in zip(ax.flat, centers):\n",
        "  axi.set(xticks = [], yticks = [])\n",
        "  axi.imshow(center, interpolation='nearest',cmap = plt.cm.binary)"
      ],
      "metadata": {
        "colab": {
          "base_uri": "https://localhost:8080/",
          "height": 211
        },
        "id": "efGs7FvMPZTq",
        "outputId": "06115440-1f7c-4f52-a35c-09d61883a51f"
      },
      "execution_count": null,
      "outputs": [
        {
          "output_type": "display_data",
          "data": {
            "text/plain": [
              "<Figure size 576x216 with 10 Axes>"
            ],
            "image/png": "[encoded data removed]"
          },
          "metadata": {
            "needs_background": "light"
          }
        }
      ]
    },
    {
      "cell_type": "code",
      "source": [
        "digits.target_names"
      ],
      "metadata": {
        "colab": {
          "base_uri": "https://localhost:8080/"
        },
        "id": "i74jMLDUUl_J",
        "outputId": "69907a7a-c714-4dfd-9c9d-2fcc16b0c2a9"
      },
      "execution_count": null,
      "outputs": [
        {
          "output_type": "execute_result",
          "data": {
            "text/plain": [
              "array([0, 1, 2, 3, 4, 5, 6, 7, 8, 9])"
            ]
          },
          "metadata": {},
          "execution_count": 215
        }
      ]
    },
    {
      "cell_type": "code",
      "source": [
        "labels = np.zeros_like(model.cluster_centers_)\n",
        "for i in range(8):\n",
        "  mask = (model.cluster_centers_ == i)\n",
        "  # print(mask)\n",
        "  labels[mask] = mode(digits.target[mask])[0]\n"
      ],
      "metadata": {
        "colab": {
          "base_uri": "https://localhost:8080/",
          "height": 200
        },
        "id": "xRWZUIpPPtry",
        "outputId": "0c0eaad0-884a-403d-85a6-c9c8089b5037"
      },
      "execution_count": null,
      "outputs": [
        {
          "output_type": "error",
          "ename": "IndexError",
          "evalue": "ignored",
          "traceback": [
            "\u001b[0;31m---------------------------------------------------------------------------\u001b[0m",
            "\u001b[0;31mIndexError\u001b[0m                                Traceback (most recent call last)",
            "\u001b[0;32m<ipython-input-227-884c40c72f2d>\u001b[0m in \u001b[0;36m<module>\u001b[0;34m\u001b[0m\n\u001b[1;32m      3\u001b[0m   \u001b[0mmask\u001b[0m \u001b[0;34m=\u001b[0m \u001b[0;34m(\u001b[0m\u001b[0mmodel\u001b[0m\u001b[0;34m.\u001b[0m\u001b[0mcluster_centers_\u001b[0m \u001b[0;34m==\u001b[0m \u001b[0mi\u001b[0m\u001b[0;34m)\u001b[0m\u001b[0;34m\u001b[0m\u001b[0;34m\u001b[0m\u001b[0m\n\u001b[1;32m      4\u001b[0m   \u001b[0;31m# print(mask)\u001b[0m\u001b[0;34m\u001b[0m\u001b[0;34m\u001b[0m\u001b[0;34m\u001b[0m\u001b[0m\n\u001b[0;32m----> 5\u001b[0;31m   \u001b[0mlabels\u001b[0m\u001b[0;34m[\u001b[0m\u001b[0mmask\u001b[0m\u001b[0;34m]\u001b[0m \u001b[0;34m=\u001b[0m \u001b[0mmode\u001b[0m\u001b[0;34m(\u001b[0m\u001b[0mdigits\u001b[0m\u001b[0;34m.\u001b[0m\u001b[0mtarget\u001b[0m\u001b[0;34m[\u001b[0m\u001b[0mmask\u001b[0m\u001b[0;34m]\u001b[0m\u001b[0;34m)\u001b[0m\u001b[0;34m[\u001b[0m\u001b[0;36m0\u001b[0m\u001b[0;34m]\u001b[0m\u001b[0;34m\u001b[0m\u001b[0;34m\u001b[0m\u001b[0m\n\u001b[0m",
            "\u001b[0;31mIndexError\u001b[0m: too many indices for array: array is 1-dimensional, but 2 were indexed"
          ]
        }
      ]
    },
    {
      "cell_type": "code",
      "source": [],
      "metadata": {
        "id": "6HRRF6UYSZux"
      },
      "execution_count": null,
      "outputs": []
    }
  ]
}