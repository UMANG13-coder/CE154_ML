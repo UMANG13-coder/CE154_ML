{
  "nbformat": 4,
  "nbformat_minor": 0,
  "metadata": {
    "colab": {
      "provenance": [],
      "include_colab_link": true
    },
    "kernelspec": {
      "name": "python3",
      "display_name": "Python 3"
    },
    "language_info": {
      "name": "python"
    }
  },
  "cells": [
    {
      "cell_type": "markdown",
      "metadata": {
        "id": "view-in-github",
        "colab_type": "text"
      },
      "source": [
        "<a href=\"https://colab.research.google.com/github/UMANG13-coder/CE154_Umang_Varotariya_ML/blob/main/Lab_11/Lab_11.ipynb\" target=\"_parent\"><img src=\"https://colab.research.google.com/assets/colab-badge.svg\" alt=\"Open In Colab\"/></a>"
      ]
    },
    {
      "cell_type": "code",
      "execution_count": 1,
      "metadata": {
        "colab": {
          "base_uri": "https://localhost:8080/"
        },
        "id": "oSemYy0tQZgf",
        "outputId": "18ba1dad-4015-4ac9-df02-fdeefb4298fd"
      },
      "outputs": [
        {
          "output_type": "stream",
          "name": "stdout",
          "text": [
            "[[ 999    0]\n",
            " [   0 1001]]\n",
            "accuracy 1.0\n",
            "precision 1.0\n",
            "recall 1.0\n"
          ]
        }
      ],
      "source": [
        "from sklearn.datasets import make_blobs\n",
        "from sklearn.svm import SVC\n",
        "from sklearn.model_selection import train_test_split\n",
        "from sklearn.metrics import accuracy_score,confusion_matrix,precision_score,recall_score\n",
        "\n",
        "def measures(y_true,y_pred):\n",
        "  print(confusion_matrix(y_true,y_pred))\n",
        "  return {\n",
        "      \"accuracy\":accuracy_score(y_test,y_pred),\n",
        "      \"precision\":precision_score(y_test,y_pred,average='micro'),\n",
        "      \"recall\":recall_score(y_test,y_pred,average='micro')\n",
        "  }\n",
        "  pass\n",
        "\n",
        "X,y=make_blobs(n_samples=10000,centers=2,n_features=4)\n",
        "X_train,X_test,y_train,y_test=train_test_split(X,y,test_size=0.2,random_state=154)\n",
        "model=SVC(C=2).fit(X_train,y_train)\n",
        "y_pred=model.predict(X_test)\n",
        "\n",
        "metrics=measures(y_test,y_pred)\n",
        "\n",
        "for metric in metrics:\n",
        "  print(metric,metrics[metric])\n"
      ]
    },
    {
      "cell_type": "code",
      "source": [
        "from sklearn.datasets import make_blobs\n",
        "from sklearn.svm import SVC\n",
        "from sklearn.model_selection import train_test_split\n",
        "from sklearn.metrics import accuracy_score,confusion_matrix,precision_score,recall_score\n",
        "\n",
        "def measures(y_true,y_pred):\n",
        "  print(confusion_matrix(y_true,y_pred))\n",
        "  return {\n",
        "      \"accuracy\":accuracy_score(y_test,y_pred),\n",
        "      \"precision\":precision_score(y_test,y_pred,average='micro'),\n",
        "      \"recall\":recall_score(y_test,y_pred,average='micro')\n",
        "  }\n",
        "  pass\n",
        "\n",
        "X,y=make_blobs(n_samples=10000,centers=2,n_features=4)\n",
        "X_train,X_test,y_train,y_test=train_test_split(X,y,test_size=0.2,random_state=154)\n",
        "model=SVC(C=300).fit(X_train,y_train)\n",
        "y_pred=model.predict(X_test)\n",
        "\n",
        "metrics=measures(y_test,y_pred)\n",
        "\n",
        "for metric in metrics:\n",
        "  print(metric,metrics[metric])\n"
      ],
      "metadata": {
        "colab": {
          "base_uri": "https://localhost:8080/"
        },
        "id": "uWgRAq12SwT_",
        "outputId": "02442c60-de5f-446f-c43f-8ea66924866d"
      },
      "execution_count": 2,
      "outputs": [
        {
          "output_type": "stream",
          "name": "stdout",
          "text": [
            "[[ 982    0]\n",
            " [   0 1018]]\n",
            "accuracy 1.0\n",
            "precision 1.0\n",
            "recall 1.0\n"
          ]
        }
      ]
    },
    {
      "cell_type": "markdown",
      "source": [
        "# linear svm "
      ],
      "metadata": {
        "id": "jBYCLE9KTagt"
      }
    },
    {
      "cell_type": "code",
      "source": [
        "from sklearn.datasets import load_breast_cancer\n",
        "from sklearn.svm import SVC\n",
        "from sklearn.model_selection import train_test_split\n",
        "from sklearn.metrics import accuracy_score,confusion_matrix\n",
        "\n",
        "def measures(y_true,y_pred):\n",
        "  cmat=confusion_matrix(y_true=y_test,y_pred=y_pred)\n",
        "  tn, fp, fn, tp=cmat.ravel()\n",
        "  print(\"tn : \",tn,\" , fp : \",fp,\" , fn : \",fn,\" , tp : \",tp)\n",
        "  return {\n",
        "      \"accuracy\":(tn+tp)/(tn+fp+fn+tp),\n",
        "      \"precision\":(tp)/(fp+tp),\n",
        "      \"recall\":(tp)/(fn+tp)\n",
        "  }\n",
        "  pass\n",
        "\n",
        "ds=load_breast_cancer()\n",
        "X=ds.data\n",
        "y=ds.target\n",
        "X_train,X_test,y_train,y_test=train_test_split(X,y,test_size=0.2,random_state=154)\n",
        "# model=SVC(kernel=\"linear\",C=2).fit(X_train,y_train)\n",
        "\n",
        "# tn :  30  , fp :  5  , fn :  2  , tp :  77\n",
        "# accuracy 0.9385964912280702\n",
        "# precision 0.9390243902439024\n",
        "# recall 0.9746835443037974\n",
        "\n",
        "\n",
        "# model=SVC(kernel=\"rbf\",C=2).fit(X_train,y_train)\n",
        "# tn :  28  , fp :  7  , fn :  2  , tp :  77\n",
        "# accuracy 0.9210526315789473\n",
        "# precision 0.9166666666666666\n",
        "# recall 0.9746835443037974\n",
        "\n",
        "model=SVC(kernel=\"poly\",C=2).fit(X_train,y_train)\n",
        "\n",
        "# tn :  27  , fp :  8  , fn :  3  , tp :  76\n",
        "# accuracy 0.9035087719298246\n",
        "# precision 0.9047619047619048\n",
        "# recall 0.9620253164556962\n",
        "\n",
        "y_pred=model.predict(X_test)\n",
        "\n",
        "metrics=measures(y_test,y_pred)\n",
        "\n",
        "for metric in metrics:\n",
        "  print(metric,metrics[metric])\n"
      ],
      "metadata": {
        "colab": {
          "base_uri": "https://localhost:8080/"
        },
        "id": "V4uby-AuTkh9",
        "outputId": "ca20da67-0efa-40bb-ab2a-a688a8359b82"
      },
      "execution_count": 3,
      "outputs": [
        {
          "output_type": "stream",
          "name": "stdout",
          "text": [
            "tn :  21  , fp :  15  , fn :  5  , tp :  73\n",
            "accuracy 0.8245614035087719\n",
            "precision 0.8295454545454546\n",
            "recall 0.9358974358974359\n"
          ]
        }
      ]
    },
    {
      "cell_type": "code",
      "source": [
        "from sklearn.datasets import load_breast_cancer\n",
        "from sklearn.svm import SVC\n",
        "from sklearn.model_selection import train_test_split\n",
        "from sklearn.metrics import accuracy_score,confusion_matrix\n",
        "\n",
        "def measures(y_true,y_pred):\n",
        "  cmat=confusion_matrix(y_true=y_test,y_pred=y_pred)\n",
        "  tn, fp, fn, tp=cmat.ravel()\n",
        "  print(\"tn : \",tn,\" , fp : \",fp,\" , fn : \",fn,\" , tp : \",tp)\n",
        "  return {\n",
        "      \"accuracy\":(tn+tp)/(tn+fp+fn+tp),\n",
        "      \"precision\":(tp)/(fp+tp),\n",
        "      \"recall\":(tp)/(fn+tp)\n",
        "  }\n",
        "  pass\n",
        "\n",
        "ds=load_breast_cancer()\n",
        "X=ds.data\n",
        "y=ds.target\n",
        "X_train,X_test,y_train,y_test=train_test_split(X,y,test_size=0.2,random_state=154)\n",
        "\n",
        "# model=SVC(kernel=\"linear\",C=300).fit(X_train,y_train)\n",
        "\n",
        "# tn :  29  , fp :  6  , fn :  2  , tp :  77\n",
        "# accuracy 0.9298245614035088\n",
        "# precision 0.927710843373494\n",
        "# recall 0.9746835443037974\n",
        "\n",
        "\n",
        "# model=SVC(kernel=\"rbf\",C=300).fit(X_train,y_train)\n",
        "\n",
        "# tn :  30  , fp :  5  , fn :  3  , tp :  76\n",
        "# accuracy 0.9298245614035088\n",
        "# precision 0.9382716049382716\n",
        "# recall 0.9620253164556962\n",
        "\n",
        "\n",
        "model=SVC(kernel=\"poly\",C=300).fit(X_train,y_train)\n",
        "\n",
        "# tn :  28  , fp :  7  , fn :  3  , tp :  76\n",
        "# accuracy 0.9122807017543859\n",
        "# precision 0.9156626506024096\n",
        "# recall 0.9620253164556962\n",
        "\n",
        "\n",
        "y_pred=model.predict(X_test)\n",
        "\n",
        "metrics=measures(y_test,y_pred)\n",
        "\n",
        "for metric in metrics:\n",
        "  print(metric,metrics[metric])\n",
        "\n"
      ],
      "metadata": {
        "colab": {
          "base_uri": "https://localhost:8080/"
        },
        "id": "MrqKvmioUIrH",
        "outputId": "a3e2f56e-02ce-45ef-d850-56bd766ec7b4"
      },
      "execution_count": 4,
      "outputs": [
        {
          "output_type": "stream",
          "name": "stdout",
          "text": [
            "tn :  25  , fp :  11  , fn :  2  , tp :  76\n",
            "accuracy 0.8859649122807017\n",
            "precision 0.8735632183908046\n",
            "recall 0.9743589743589743\n"
          ]
        }
      ]
    }
  ]
}